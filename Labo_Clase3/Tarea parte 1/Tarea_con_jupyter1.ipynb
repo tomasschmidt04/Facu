{
 "cells": [
  {
   "cell_type": "code",
   "execution_count": 16,
   "metadata": {},
   "outputs": [
    {
     "name": "stdout",
     "output_type": "stream",
     "text": [
      "            long        lat  id_arbol  altura_tot  diametro  inclinacio  \\\n",
      "0     -58.477564 -34.645015         1           6        35           0   \n",
      "1     -58.477559 -34.645047         2           6        35           0   \n",
      "2     -58.477551 -34.645091         3           6        35           0   \n",
      "3     -58.478129 -34.644567         4          17        50           0   \n",
      "4     -58.478121 -34.644598         5          17        50           0   \n",
      "...          ...        ...       ...         ...       ...         ...   \n",
      "51497 -58.505752 -34.562998     51725          15        30           0   \n",
      "51498 -58.507111 -34.565843     51726          13        31           0   \n",
      "51499 -58.475721 -34.565192     51727          11        28           0   \n",
      "51500 -58.507026 -34.565670     51728           5        32           0   \n",
      "51501 -58.506874 -34.565334     51729          10        35           0   \n",
      "\n",
      "       id_especie                                       nombre_com  \\\n",
      "0              53              Washingtonia (Palmera washingtonia)   \n",
      "1              53              Washingtonia (Palmera washingtonia)   \n",
      "2              53              Washingtonia (Palmera washingtonia)   \n",
      "3              65                                             Ombú   \n",
      "4              65                                             Ombú   \n",
      "...           ...                                              ...   \n",
      "51497          45                                        Casuarina   \n",
      "51498          45                                        Casuarina   \n",
      "51499          17  Árbol del cielo (Ailanto o Árbol de los dioses)   \n",
      "51500         342                                           Ciprés   \n",
      "51501         342                                           Ciprés   \n",
      "\n",
      "                     nombre_cie                     tipo_folla  \\\n",
      "0         Washingtonia filifera                        Palmera   \n",
      "1         Washingtonia filifera                        Palmera   \n",
      "2         Washingtonia filifera                        Palmera   \n",
      "3             Phytolacca dioica  Árbol Latifoliado Caducifolio   \n",
      "4             Phytolacca dioica  Árbol Latifoliado Caducifolio   \n",
      "...                         ...                            ...   \n",
      "51497  Casuarina cunninghamiana      Árbol Latifoliado Perenne   \n",
      "51498  Casuarina cunninghamiana      Árbol Latifoliado Perenne   \n",
      "51499       Ailanthus altissima  Árbol Latifoliado Caducifolio   \n",
      "51500             Cupressus sp.         Árbol Conífero Perenne   \n",
      "51501             Cupressus sp.         Árbol Conífero Perenne   \n",
      "\n",
      "                       espacio_ve  \\\n",
      "0      AVELLANEDA, NICOLÁS, Pres.   \n",
      "1      AVELLANEDA, NICOLÁS, Pres.   \n",
      "2      AVELLANEDA, NICOLÁS, Pres.   \n",
      "3      AVELLANEDA, NICOLÁS, Pres.   \n",
      "4      AVELLANEDA, NICOLÁS, Pres.   \n",
      "...                           ...   \n",
      "51497                 GENERAL PAZ   \n",
      "51498                 GENERAL PAZ   \n",
      "51499  CAMPELO, LICENCIADO CARLOS   \n",
      "51500                 GENERAL PAZ   \n",
      "51501                 GENERAL PAZ   \n",
      "\n",
      "                                               ubicacion     nombre_fam  \\\n",
      "0      DIRECTORIO, AV. - LACARRA, AV. - MONTE -  AUTO...      Arecaceas   \n",
      "1      DIRECTORIO, AV. - LACARRA, AV. - MONTE -  AUTO...      Arecaceas   \n",
      "2      DIRECTORIO, AV. - LACARRA, AV. - MONTE -  AUTO...      Arecaceas   \n",
      "3      DIRECTORIO, AV. - LACARRA, AV. - MONTE -  AUTO...   Fitolacáceas   \n",
      "4      DIRECTORIO, AV. - LACARRA, AV. - MONTE -  AUTO...   Fitolacáceas   \n",
      "...                                                  ...            ...   \n",
      "51497  LARRALDE, CRISOLOGO, AV. - PAZ, GRAL., AV.- AI...  Casuarinaceas   \n",
      "51498  LARRALDE, CRISOLOGO, AV. - PAZ, GRAL., AV.- AI...  Casuarinaceas   \n",
      "51499  ESTACIÓN COGHLAN - Propiedad particular e/UGAR...  Simarrubáceas   \n",
      "51500  LARRALDE, CRISOLOGO, AV. - PAZ, GRAL., AV.- AI...    Cupresáceas   \n",
      "51501  LARRALDE, CRISOLOGO, AV. - PAZ, GRAL., AV.- AI...    Cupresáceas   \n",
      "\n",
      "         nombre_gen            origen       coord_x        coord_y  \n",
      "0      Washingtonia           Exótico  98692.305719   98253.300738  \n",
      "1      Washingtonia           Exótico  98692.751564   98249.733979  \n",
      "2      Washingtonia           Exótico  98693.494639   98244.829684  \n",
      "3        Phytolacca  Nativo/Autóctono  98640.439091   98302.938142  \n",
      "4        Phytolacca  Nativo/Autóctono  98641.182166   98299.519997  \n",
      "...             ...               ...           ...            ...  \n",
      "51497     Casuarina           Exótico  96104.125550  107350.962385  \n",
      "51498     Casuarina           Exótico  95979.513368  107035.237268  \n",
      "51499     Ailanthus           Exótico  98860.090864  107108.347622  \n",
      "51500     Cupressus           Exótico  95987.288841  107054.471332  \n",
      "51501     Cupressus           Exótico  96001.202845  107091.711754  \n",
      "\n",
      "[51502 rows x 17 columns]\n"
     ]
    }
   ],
   "source": [
    "import pandas as pd\n",
    "df = pd.read_csv(\"arbolado-en-espacios-verdes.csv\")\n",
    "print(df)"
   ]
  },
  {
   "attachments": {},
   "cell_type": "markdown",
   "metadata": {},
   "source": [
    "Aca se van a realizar los ejercicios de la primer carilla\n"
   ]
  },
  {
   "cell_type": "code",
   "execution_count": 30,
   "metadata": {},
   "outputs": [
    {
     "name": "stdout",
     "output_type": "stream",
     "text": [
      "10.369585253456222\n",
      "690\n"
     ]
    }
   ],
   "source": [
    "df_jacaranda = df[df[\"nombre_com\"] == \"Jacarandá\"]\n",
    "df_palo_borracho = df[df[\"nombre_com\"].str.contains(\"Palo Borracho\",case= False)]\n",
    "cant_arboles_jaca = df_jacaranda.shape[0]\n",
    "cant_arboles_palo = df_palo_borracho.shape[0]\n",
    "maxima_alturaa_jaca = df_jacaranda.loc[df_jacaranda[\"altura_tot\"].idxmax()] # Me da el indice de la fila con el mayor valor de altura. Luego indexo en esa fila \n",
    "minima_alturaa_jaca = df_jacaranda.loc[df_jacaranda[\"altura_tot\"].idxmin()] # Me da el indice de la fila con el mayor valor de altura. Luego indexo en esa fila \n",
    "promedio_altura_jaca = df_jacaranda[\"altura_tot\"].mean() #Calulo el promediode una columna\n",
    "print(promedio_altura_jaca)\n",
    "def cant_arboles_parque(parque):\n",
    "    arboles_en_parque = df[df[\"espacio_ve\"] == parque]\n",
    "    cant_arboles = arboles_en_parque.shape[0]\n",
    "    return cant_arboles\n",
    "print(cant_arboles_parque(\"GENERAL PAZ\"))"
   ]
  }
 ],
 "metadata": {
  "kernelspec": {
   "display_name": "Python 3",
   "language": "python",
   "name": "python3"
  },
  "language_info": {
   "codemirror_mode": {
    "name": "ipython",
    "version": 3
   },
   "file_extension": ".py",
   "mimetype": "text/x-python",
   "name": "python",
   "nbconvert_exporter": "python",
   "pygments_lexer": "ipython3",
   "version": "3.8.10"
  },
  "orig_nbformat": 4,
  "vscode": {
   "interpreter": {
    "hash": "916dbcbb3f70747c44a77c7bcd40155683ae19c65e1c03b4aa3499c5328201f1"
   }
  }
 },
 "nbformat": 4,
 "nbformat_minor": 2
}
