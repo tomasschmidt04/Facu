{
 "cells": [
  {
   "cell_type": "code",
   "execution_count": 60,
   "metadata": {},
   "outputs": [
    {
     "name": "stderr",
     "output_type": "stream",
     "text": [
      "/home/tsl2004/.local/lib/python3.8/site-packages/IPython/core/interactiveshell.py:3203: DtypeWarning: Columns (2,7,8) have mixed types. Specify dtype option on import or set low_memory=False.\n",
      "  has_raised = await self.run_ast_nodes(code_ast.body, cell_name,\n"
     ]
    },
    {
     "name": "stdout",
     "output_type": "stream",
     "text": [
      "            long        lat  id_arbol  altura_tot  diametro  inclinacio  \\\n",
      "0     -58.477564 -34.645015         1           6        35           0   \n",
      "1     -58.477559 -34.645047         2           6        35           0   \n",
      "2     -58.477551 -34.645091         3           6        35           0   \n",
      "3     -58.478129 -34.644567         4          17        50           0   \n",
      "4     -58.478121 -34.644598         5          17        50           0   \n",
      "...          ...        ...       ...         ...       ...         ...   \n",
      "51497 -58.505752 -34.562998     51725          15        30           0   \n",
      "51498 -58.507111 -34.565843     51726          13        31           0   \n",
      "51499 -58.475721 -34.565192     51727          11        28           0   \n",
      "51500 -58.507026 -34.565670     51728           5        32           0   \n",
      "51501 -58.506874 -34.565334     51729          10        35           0   \n",
      "\n",
      "       id_especie                                       nombre_com  \\\n",
      "0              53              Washingtonia (Palmera washingtonia)   \n",
      "1              53              Washingtonia (Palmera washingtonia)   \n",
      "2              53              Washingtonia (Palmera washingtonia)   \n",
      "3              65                                             Ombú   \n",
      "4              65                                             Ombú   \n",
      "...           ...                                              ...   \n",
      "51497          45                                        Casuarina   \n",
      "51498          45                                        Casuarina   \n",
      "51499          17  Árbol del cielo (Ailanto o Árbol de los dioses)   \n",
      "51500         342                                           Ciprés   \n",
      "51501         342                                           Ciprés   \n",
      "\n",
      "                     nombre_cie                     tipo_folla  \\\n",
      "0         Washingtonia filifera                        Palmera   \n",
      "1         Washingtonia filifera                        Palmera   \n",
      "2         Washingtonia filifera                        Palmera   \n",
      "3             Phytolacca dioica  Árbol Latifoliado Caducifolio   \n",
      "4             Phytolacca dioica  Árbol Latifoliado Caducifolio   \n",
      "...                         ...                            ...   \n",
      "51497  Casuarina cunninghamiana      Árbol Latifoliado Perenne   \n",
      "51498  Casuarina cunninghamiana      Árbol Latifoliado Perenne   \n",
      "51499       Ailanthus altissima  Árbol Latifoliado Caducifolio   \n",
      "51500             Cupressus sp.         Árbol Conífero Perenne   \n",
      "51501             Cupressus sp.         Árbol Conífero Perenne   \n",
      "\n",
      "                       espacio_ve  \\\n",
      "0      AVELLANEDA, NICOLÁS, Pres.   \n",
      "1      AVELLANEDA, NICOLÁS, Pres.   \n",
      "2      AVELLANEDA, NICOLÁS, Pres.   \n",
      "3      AVELLANEDA, NICOLÁS, Pres.   \n",
      "4      AVELLANEDA, NICOLÁS, Pres.   \n",
      "...                           ...   \n",
      "51497                 GENERAL PAZ   \n",
      "51498                 GENERAL PAZ   \n",
      "51499  CAMPELO, LICENCIADO CARLOS   \n",
      "51500                 GENERAL PAZ   \n",
      "51501                 GENERAL PAZ   \n",
      "\n",
      "                                               ubicacion     nombre_fam  \\\n",
      "0      DIRECTORIO, AV. - LACARRA, AV. - MONTE -  AUTO...      Arecaceas   \n",
      "1      DIRECTORIO, AV. - LACARRA, AV. - MONTE -  AUTO...      Arecaceas   \n",
      "2      DIRECTORIO, AV. - LACARRA, AV. - MONTE -  AUTO...      Arecaceas   \n",
      "3      DIRECTORIO, AV. - LACARRA, AV. - MONTE -  AUTO...   Fitolacáceas   \n",
      "4      DIRECTORIO, AV. - LACARRA, AV. - MONTE -  AUTO...   Fitolacáceas   \n",
      "...                                                  ...            ...   \n",
      "51497  LARRALDE, CRISOLOGO, AV. - PAZ, GRAL., AV.- AI...  Casuarinaceas   \n",
      "51498  LARRALDE, CRISOLOGO, AV. - PAZ, GRAL., AV.- AI...  Casuarinaceas   \n",
      "51499  ESTACIÓN COGHLAN - Propiedad particular e/UGAR...  Simarrubáceas   \n",
      "51500  LARRALDE, CRISOLOGO, AV. - PAZ, GRAL., AV.- AI...    Cupresáceas   \n",
      "51501  LARRALDE, CRISOLOGO, AV. - PAZ, GRAL., AV.- AI...    Cupresáceas   \n",
      "\n",
      "         nombre_gen            origen       coord_x        coord_y  \n",
      "0      Washingtonia           Exótico  98692.305719   98253.300738  \n",
      "1      Washingtonia           Exótico  98692.751564   98249.733979  \n",
      "2      Washingtonia           Exótico  98693.494639   98244.829684  \n",
      "3        Phytolacca  Nativo/Autóctono  98640.439091   98302.938142  \n",
      "4        Phytolacca  Nativo/Autóctono  98641.182166   98299.519997  \n",
      "...             ...               ...           ...            ...  \n",
      "51497     Casuarina           Exótico  96104.125550  107350.962385  \n",
      "51498     Casuarina           Exótico  95979.513368  107035.237268  \n",
      "51499     Ailanthus           Exótico  98860.090864  107108.347622  \n",
      "51500     Cupressus           Exótico  95987.288841  107054.471332  \n",
      "51501     Cupressus           Exótico  96001.202845  107091.711754  \n",
      "\n",
      "[51502 rows x 17 columns]\n"
     ]
    }
   ],
   "source": [
    "import pandas as pd\n",
    "df = pd.read_csv(\"arbolado-publico-lineal-2017-2018.csv\")\n",
    "df2 = pd.read_csv(\"../Tarea parte 1/arbolado-en-espacios-verdes.csv\")\n",
    "print(df2)\n",
    "\n"
   ]
  },
  {
   "cell_type": "code",
   "execution_count": 61,
   "metadata": {},
   "outputs": [
    {
     "name": "stdout",
     "output_type": "stream",
     "text": [
      "                     nombre_cie  diametro  altura_tot\n",
      "0         Washingtonia filifera        35           6\n",
      "1         Washingtonia filifera        35           6\n",
      "2         Washingtonia filifera        35           6\n",
      "3             Phytolacca dioica        50          17\n",
      "4             Phytolacca dioica        50          17\n",
      "...                         ...       ...         ...\n",
      "51497  Casuarina cunninghamiana        30          15\n",
      "51498  Casuarina cunninghamiana        31          13\n",
      "51499       Ailanthus altissima        28          11\n",
      "51500             Cupressus sp.        32           5\n",
      "51501             Cupressus sp.        35          10\n",
      "\n",
      "[51502 rows x 3 columns]\n"
     ]
    }
   ],
   "source": [
    "#Seleccionando columnas \n",
    "cols_sel = [ 'nombre_cientifico', 'diametro_altura_pecho', 'altura_arbol']\n",
    "df1_nuevo = df[cols_sel].copy()\n",
    "\n",
    "cols_sel = [\"nombre_cie\",\"diametro\" , \"altura_tot\"]\n",
    "df2_nuevo = df2[cols_sel].copy()\n",
    "print(df2_nuevo)"
   ]
  },
  {
   "cell_type": "code",
   "execution_count": 10,
   "metadata": {},
   "outputs": [
    {
     "name": "stdout",
     "output_type": "stream",
     "text": [
      "Fraxinus pennsylvanica    133609\n",
      "Platanus x acerifolia      32319\n",
      "Ficus benjamina            22508\n",
      "Tilia x moltkei            15605\n",
      "Melia azedarach            14901\n",
      "Jacaranda mimosifolia      13872\n",
      "Lagerstroemia indica       11886\n",
      "Fraxinus americana         10119\n",
      "No identificado             9411\n",
      "Tipuana tipu                9330\n",
      "Name: nombre_cientifico, dtype: int64\n"
     ]
    }
   ],
   "source": [
    "#devolver 10 especies mas repetidas\n",
    "ordenando_por_frecuencia = df[\"nombre_cientifico\"].value_counts() #Recordar que el value.counts() no solo me lo ordena de mayor a menor por repeticion, sino que me dice que elemento es el que tiene tales repeticiones\n",
    "print(ordenando_por_frecuencia.head(10))"
   ]
  },
  {
   "attachments": {},
   "cell_type": "markdown",
   "metadata": {},
   "source": [
    "Trabajaremos con las siguientes especies seleccionadas: El codigo debajo NO ES para el ejercicio final"
   ]
  },
  {
   "cell_type": "code",
   "execution_count": 24,
   "metadata": {},
   "outputs": [
    {
     "name": "stdout",
     "output_type": "stream",
     "text": [
      "            nombre_cientifico ancho_acera  diametro_altura_pecho  altura_arbol\n",
      "0                Tipuana tipu         5.5                   88.0          34.0\n",
      "4       Jacaranda mimosifolia         NaN                   13.0           8.0\n",
      "7       Jacaranda mimosifolia         NaN                    8.0           3.0\n",
      "8       Jacaranda mimosifolia         NaN                   38.0          15.0\n",
      "9             Tilia x moltkei         2.8                   25.0          12.0\n",
      "...                       ...         ...                    ...           ...\n",
      "370169           Tipuana tipu         NaN                   62.0          16.0\n",
      "370170           Tipuana tipu         NaN                   76.0          16.0\n",
      "370171           Tipuana tipu         NaN                   57.0          16.0\n",
      "370172           Tipuana tipu         NaN                   71.0          18.0\n",
      "370173  Jacaranda mimosifolia         3.3                   44.0           7.0\n",
      "\n",
      "[38807 rows x 4 columns]\n"
     ]
    }
   ],
   "source": [
    "\n",
    "especies_seleccionadas = ['Tilia x moltkei', 'Jacaranda mimosifolia', 'Tipuana tipu']\n",
    "filtro = df['nombre_cientifico'].isin(especies_seleccionadas)\n",
    "df_filtrado = df[filtro]\n",
    "print(df_filtrado)\n",
    "#el segundo dataset lo tengo que llamar df.tipas_veredas 39.000 Tipuana tipu \n",
    "#E"
   ]
  },
  {
   "cell_type": "code",
   "execution_count": 63,
   "metadata": {},
   "outputs": [
    {
     "name": "stdout",
     "output_type": "stream",
     "text": [
      "         nombre_cie  diametro  altura_tot\n",
      "2189   Tipuana Tipu        40          25\n",
      "2190   Tipuana Tipu        40          25\n",
      "2191   Tipuana Tipu        40          25\n",
      "2192   Tipuana Tipu        40          25\n",
      "2193   Tipuana Tipu        40          25\n",
      "...             ...       ...         ...\n",
      "51427  Tipuana Tipu        87          20\n",
      "51428  Tipuana Tipu        75          20\n",
      "51429  Tipuana Tipu        53          20\n",
      "51448  Tipuana Tipu        40          19\n",
      "51464  Tipuana Tipu        48          22\n",
      "\n",
      "[4031 rows x 3 columns]\n"
     ]
    }
   ],
   "source": [
    "filtro = df1_nuevo[\"nombre_cientifico\"].str.contains(\"Tipuana \",case=False)\n",
    "filtro2 = df2_nuevo[\"nombre_cie\"] == \"Tipuana Tipu\"\n",
    "df1_nuevo = df1_nuevo[filtro]\n",
    "df2_nuevo = df2_nuevo[filtro2]\n",
    "print(df2_nuevo)"
   ]
  },
  {
   "attachments": {},
   "cell_type": "markdown",
   "metadata": {},
   "source": [
    "Ahora voy a pasar a renombrar las etiquetas de las columnas"
   ]
  },
  {
   "cell_type": "code",
   "execution_count": 64,
   "metadata": {},
   "outputs": [
    {
     "name": "stdout",
     "output_type": "stream",
     "text": [
      "       nombre_cientifico  diametro  altura_arbol\n",
      "0           Tipuana tipu      88.0          34.0\n",
      "434         Tipuana tipu     108.0          17.0\n",
      "435         Tipuana tipu      80.0          16.0\n",
      "437         Tipuana tipu     107.0          25.0\n",
      "438         Tipuana tipu      80.0          22.0\n",
      "...                  ...       ...           ...\n",
      "370059      Tipuana tipu      13.0           5.0\n",
      "370169      Tipuana tipu      62.0          16.0\n",
      "370170      Tipuana tipu      76.0          16.0\n",
      "370171      Tipuana tipu      57.0          16.0\n",
      "370172      Tipuana tipu      71.0          18.0\n",
      "\n",
      "[9330 rows x 3 columns]\n"
     ]
    }
   ],
   "source": [
    "df1_nuevo = df1_nuevo.rename(columns={\"diametro_altura_pecho\": \"diametro\"})\n",
    "df2_nuevo = df2_nuevo.rename(columns={\"nombre_cie\" : \"nombre_cientifico\",\"altura_tot\": \"altura_arbol\"})\n",
    "print(df1_nuevo)"
   ]
  },
  {
   "attachments": {},
   "cell_type": "markdown",
   "metadata": {},
   "source": [
    "Ahora vamos a agregar la columna ambiente que muestra el parque para df 1 y la ubicacion para df 2"
   ]
  },
  {
   "cell_type": "code",
   "execution_count": 65,
   "metadata": {},
   "outputs": [
    {
     "name": "stdout",
     "output_type": "stream",
     "text": [
      "      nombre_cientifico  diametro  altura_arbol  \\\n",
      "2189       Tipuana Tipu        40            25   \n",
      "2190       Tipuana Tipu        40            25   \n",
      "2191       Tipuana Tipu        40            25   \n",
      "2192       Tipuana Tipu        40            25   \n",
      "2193       Tipuana Tipu        40            25   \n",
      "...                 ...       ...           ...   \n",
      "51427      Tipuana Tipu        87            20   \n",
      "51428      Tipuana Tipu        75            20   \n",
      "51429      Tipuana Tipu        53            20   \n",
      "51448      Tipuana Tipu        40            19   \n",
      "51464      Tipuana Tipu        48            22   \n",
      "\n",
      "                               ambiente  \n",
      "2189         AVELLANEDA, NICOLÁS, Pres.  \n",
      "2190         AVELLANEDA, NICOLÁS, Pres.  \n",
      "2191         AVELLANEDA, NICOLÁS, Pres.  \n",
      "2192         AVELLANEDA, NICOLÁS, Pres.  \n",
      "2193         AVELLANEDA, NICOLÁS, Pres.  \n",
      "...                                 ...  \n",
      "51427                        FRAY MOCHO  \n",
      "51428                        FRAY MOCHO  \n",
      "51429                        FRAY MOCHO  \n",
      "51448  PROVINCIA de SANTIAGO DEL ESTERO  \n",
      "51464                 PAZ, JOSE C., Dr.  \n",
      "\n",
      "[4031 rows x 4 columns]\n"
     ]
    }
   ],
   "source": [
    "df1_nuevo[\"ambiente\"] = df[\"direccion_normalizada\"]\n",
    "df2_nuevo[\"ambiente\"] = df2[\"espacio_ve\"]\n",
    "print(df2_nuevo)"
   ]
  },
  {
   "attachments": {},
   "cell_type": "markdown",
   "metadata": {},
   "source": [
    "Por ultimo concatenemaos cada df\n"
   ]
  },
  {
   "cell_type": "code",
   "execution_count": 66,
   "metadata": {},
   "outputs": [
    {
     "name": "stdout",
     "output_type": "stream",
     "text": [
      "      nombre_cientifico  diametro  altura_arbol  \\\n",
      "0          Tipuana tipu      88.0          34.0   \n",
      "434        Tipuana tipu     108.0          17.0   \n",
      "435        Tipuana tipu      80.0          16.0   \n",
      "437        Tipuana tipu     107.0          25.0   \n",
      "438        Tipuana tipu      80.0          22.0   \n",
      "...                 ...       ...           ...   \n",
      "51427      Tipuana Tipu      87.0          20.0   \n",
      "51428      Tipuana Tipu      75.0          20.0   \n",
      "51429      Tipuana Tipu      53.0          20.0   \n",
      "51448      Tipuana Tipu      40.0          19.0   \n",
      "51464      Tipuana Tipu      48.0          22.0   \n",
      "\n",
      "                               ambiente  \n",
      "0                        ESMERALDA 1120  \n",
      "434                        AZOPARDO 350  \n",
      "435                        AZOPARDO 350  \n",
      "437                        AZOPARDO 350  \n",
      "438                        AZOPARDO 350  \n",
      "...                                 ...  \n",
      "51427                        FRAY MOCHO  \n",
      "51428                        FRAY MOCHO  \n",
      "51429                        FRAY MOCHO  \n",
      "51448  PROVINCIA de SANTIAGO DEL ESTERO  \n",
      "51464                 PAZ, JOSE C., Dr.  \n",
      "\n",
      "[13361 rows x 4 columns]\n"
     ]
    }
   ],
   "source": [
    "df_tipas = pd.concat([df1_nuevo, df2_nuevo])\n",
    "print(df_tipas)"
   ]
  }
 ],
 "metadata": {
  "kernelspec": {
   "display_name": "Python 3",
   "language": "python",
   "name": "python3"
  },
  "language_info": {
   "codemirror_mode": {
    "name": "ipython",
    "version": 3
   },
   "file_extension": ".py",
   "mimetype": "text/x-python",
   "name": "python",
   "nbconvert_exporter": "python",
   "pygments_lexer": "ipython3",
   "version": "3.8.10"
  },
  "orig_nbformat": 4,
  "vscode": {
   "interpreter": {
    "hash": "916dbcbb3f70747c44a77c7bcd40155683ae19c65e1c03b4aa3499c5328201f1"
   }
  }
 },
 "nbformat": 4,
 "nbformat_minor": 2
}
