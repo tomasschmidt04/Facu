{
 "cells": [
  {
   "cell_type": "code",
   "execution_count": 3,
   "metadata": {},
   "outputs": [
    {
     "name": "stdout",
     "output_type": "stream",
     "text": [
      "[[20222333       45        2    20000]\n",
      " [33456234       40        0    25000]\n",
      " [45432345       41        1    10000]]\n"
     ]
    }
   ],
   "source": [
    "import numpy as np\n",
    "empleado_01 = np.array([[20222333,45,2,20000],[33456234,40,0,25000],[45432345,41,1,10000]])\n",
    "print(empleado_01)"
   ]
  },
  {
   "cell_type": "code",
   "execution_count": 8,
   "metadata": {},
   "outputs": [
    {
     "name": "stdout",
     "output_type": "stream",
     "text": [
      "[array([20222333,       45,        2,    20000]), array([33456234,       40,        0,    25000])]\n"
     ]
    }
   ],
   "source": [
    "#Empleado que gane mas de 15.000$\n",
    "def superan_salario_bloque1(empleados):\n",
    "    empleados_con_buen_sueldo = []\n",
    "    for empleado in empleado_01:\n",
    "        if empleado[3] >= 15000:\n",
    "            empleados_con_buen_sueldo.append(empleado)\n",
    "    return empleados_con_buen_sueldo\n",
    "print(superan_salario_bloque1(empleado_01))\n",
    "#La funcion tuvo complejidad O(n), es decir complejidad lineal\n"
   ]
  },
  {
   "cell_type": "code",
   "execution_count": 9,
   "metadata": {},
   "outputs": [
    {
     "name": "stdout",
     "output_type": "stream",
     "text": [
      "[array([20222333,       45,        2,    20000]), array([33456234,       40,        0,    25000]), array([42236276,       36,        0,    18000])]\n"
     ]
    }
   ],
   "source": [
    "empleado_02 = np.array([[20222333,45,2,20000],[33456234,40,0,25000],[45432345,41,1,10000],[43967304,37,0,12000],[42236276,36,0,18000]])\n",
    "print(superan_salario_bloque1(empleado_02))"
   ]
  },
  {
   "cell_type": "code",
   "execution_count": 11,
   "metadata": {},
   "outputs": [
    {
     "name": "stdout",
     "output_type": "stream",
     "text": [
      "[[20222333, 45, 2, 20000], [33456234, 40, 0, 25000], [42236276, 36, 0, 18000]]\n"
     ]
    }
   ],
   "source": [
    "#Se altera orden de las columnas\n",
    "empleado_03 =  np.array([[20222333,20000,45,2],[33456234,25000,40,0],[45432345,10000,41,1],[43967304,12000,37,0],[42236276,18000,36,0]])\n",
    "def superan_salario_bloque1_nuevo_orden(empleados):\n",
    "    empleados_con_buen_sueldo=[]\n",
    "    for empleado in empleados:\n",
    "        if empleado[1] >= 15000:\n",
    "            empleados_con_buen_sueldo.append([empleado[0],empleado[2],empleado[3],empleado[1]]) #Restablecemos orden correcto\n",
    "    return empleados_con_buen_sueldo\n",
    "print(superan_salario_bloque1_nuevo_orden(empleado_03))"
   ]
  },
  {
   "cell_type": "code",
   "execution_count": 14,
   "metadata": {},
   "outputs": [
    {
     "name": "stdout",
     "output_type": "stream",
     "text": [
      "[[20222333, 45, 2, 20000], [33456234, 40, 0, 25000], [42236276, 36, 0, 18000]]\n"
     ]
    }
   ],
   "source": [
    "empleado_04 = np.array([[20222333,33456234,45432345,43967304,42236276],[45,40,41,37,36],[2,0,1,0,0],[20000,25000,10000,12000,18000]])\n",
    "def confeccionando_empleado(empleados,indice_empleado):\n",
    "    atributos_empleado = []\n",
    "    for empleado in empleados:\n",
    "        atributos_empleado.append(empleado[indice_empleado])\n",
    "    return atributos_empleado\n",
    "\n",
    "\n",
    "\n",
    "def superan_salario_bloque1_como_columnas(empleados):\n",
    "    empleados_con_buen_sueldo=[]\n",
    "    for indice,sueldo in enumerate(empleados[3]):\n",
    "        if sueldo >= 15000:\n",
    "            empleados_con_buen_sueldo.append(confeccionando_empleado(empleados,indice))\n",
    "    return empleados_con_buen_sueldo\n",
    "print(superan_salario_bloque1_como_columnas(empleado_04))"
   ]
  }
 ],
 "metadata": {
  "kernelspec": {
   "display_name": "Python 3",
   "language": "python",
   "name": "python3"
  },
  "language_info": {
   "codemirror_mode": {
    "name": "ipython",
    "version": 3
   },
   "file_extension": ".py",
   "mimetype": "text/x-python",
   "name": "python",
   "nbconvert_exporter": "python",
   "pygments_lexer": "ipython3",
   "version": "3.8.10"
  },
  "orig_nbformat": 4,
  "vscode": {
   "interpreter": {
    "hash": "916dbcbb3f70747c44a77c7bcd40155683ae19c65e1c03b4aa3499c5328201f1"
   }
  }
 },
 "nbformat": 4,
 "nbformat_minor": 2
}
